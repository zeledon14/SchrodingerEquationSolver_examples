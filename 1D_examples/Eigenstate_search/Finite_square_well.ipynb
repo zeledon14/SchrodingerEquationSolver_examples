{
 "cells": [
  {
   "cell_type": "code",
   "execution_count": 1,
   "id": "eedfa60e",
   "metadata": {},
   "outputs": [
    {
     "name": "stderr",
     "output_type": "stream",
     "text": [
      "\u001b[32m\u001b[1m  Activating\u001b[22m\u001b[39m project at `~/Desktop/physics_coding_projects/julia/SchrodingerEquationSolver_examples`\n"
     ]
    }
   ],
   "source": [
    "using Pkg;\n",
    "Pkg.activate(\"../../.\");\n",
    "using SchrodingerEquationSolver\n",
    "using Plots"
   ]
  },
  {
   "cell_type": "code",
   "execution_count": null,
   "id": "66622d47",
   "metadata": {},
   "outputs": [],
   "source": [
    "# Space grid definition and creation\n",
    "r_min::Float64=-10.0; #Where the space grid starts.\n",
    "r_max::Float64=10.0; #Where the space grid ends.\n",
    "N=1000; #Number of points in the space grind.\n",
    "grid_stru= Grids.init_uniform_grid_structure(r_min, r_max, N); #Grid creation, grid is the list with the grid points."
   ]
  },
  {
   "cell_type": "code",
   "execution_count": 3,
   "id": "eef0b4e4",
   "metadata": {},
   "outputs": [
    {
     "name": "stdout",
     "output_type": "stream",
     "text": [
      "Root = 1.4142135623730951\n"
     ]
    }
   ],
   "source": [
    "using Roots\n",
    "\n",
    "f(x) = x^2 - 2\n",
    "f′(x) = 2x\n",
    "\n",
    "# Use Newton-Raphson method\n",
    "root = find_zero((f, f′), 1.0, Roots.Newton())\n",
    "\n",
    "println(\"Root = \", root)"
   ]
  },
  {
   "cell_type": "code",
   "execution_count": 5,
   "id": "9bd9d3cd",
   "metadata": {},
   "outputs": [],
   "source": [
    "#define the effective potential\n",
    "v_effe= zeros(Float64, N);\n",
    "#define the eigenvalue \n",
    "ei= 8.0*pi^2/r_max^2;\n",
    "#define initial conditions for \n",
    "u1=0.0;\n",
    "du1=1.0;\n",
    "u_end=0.0;\n",
    "du_end=-1.0;"
   ]
  },
  {
   "cell_type": "code",
   "execution_count": 7,
   "id": "eccd7f56",
   "metadata": {},
   "outputs": [
    {
     "ename": "DomainError",
     "evalue": "DomainError with the effective potential has no turning points \n        for the proposed energy eigenvalue, this means v_effe - E has no zeroes:\n",
     "output_type": "error",
     "traceback": [
      "DomainError with the effective potential has no turning points \n",
      "        for the proposed energy eigenvalue, this means v_effe - E has no zeroes:\n",
      "\n",
      "\n",
      "Stacktrace:\n",
      " [1] solver_uniform_grid(E::Float64, u1::Float64, du1::Float64, u_end::Float64, du_end::Float64, end_i::Int64, v_effe::Vector{Float64}, grid_stru::SchrodingerEquationSolver.Grids.uniform_grid_structure)\n",
      "   @ SchrodingerEquationSolver.OneDSchrodingerEquationSolver ~/Desktop/physics_coding_projects/julia/SchrodingerEquationSolver/src/OneDSchrodingerEquationSolver.jl:45\n",
      " [2] top-level scope\n",
      "   @ ~/Desktop/physics_coding_projects/julia/SchrodingerEquationSolver_examples/1D_examples/Eigenstate_search/jl_notebook_cell_df34fa98e69747e1a8f8a730347b8e2f_W4sZmlsZQ==.jl:1"
     ]
    }
   ],
   "source": [
    "u_merged, merge_value, merge_ratio= OneDSchrodingerEquationSolver.solver_uniform_grid(ei, u1, du1, u_end, du_end, 1,v_effe, grid_stru);"
   ]
  },
  {
   "cell_type": "code",
   "execution_count": null,
   "id": "00903cf2",
   "metadata": {},
   "outputs": [],
   "source": []
  }
 ],
 "metadata": {
  "kernelspec": {
   "display_name": "Julia 1.10.6",
   "language": "julia",
   "name": "julia-1.10"
  },
  "language_info": {
   "file_extension": ".jl",
   "mimetype": "application/julia",
   "name": "julia",
   "version": "1.10.6"
  }
 },
 "nbformat": 4,
 "nbformat_minor": 5
}
